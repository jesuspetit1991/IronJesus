{
 "cells": [
  {
   "attachments": {},
   "cell_type": "markdown",
   "metadata": {},
   "source": [
    "-- Lab | SQL Self and cross join\n",
    "-- Instructions\n",
    "\n",
    "In this lab, you will be using the Sakila database of movie rentals.The database is structured as follows:\n",
    "\n",
    "\n",
    "use sakila;\n",
    "select * from rental;\n",
    "\n",
    "-- 1- Get all pairs of actors that worked together.\n",
    "\n",
    "select \n",
    "f0.film_id,\n",
    "f1.actor_id,\n",
    "f0.actor_id \n",
    "from film_actor as f0\n",
    "inner join film_actor as f1\n",
    "on  f0.film_id = f1.film_id\n",
    "and f0.actor_id <> f1.actor_id\n",
    "order by f0.film_id;\n",
    "\n",
    "-- 2- Get all pairs of customers that have rented the same film more than 3 times.\n",
    "\n",
    "-- 3- Get all possible pairs of actors and films.\n",
    "\n",
    "DROP TABLE IF EXISTS sakila.distinct_actor;\n",
    "CREATE TEMPORARY TABLE sakila.distinct_actor\n",
    "SELECT DISTINCT actor_id FROM sakila.film_actor;\n",
    "\n",
    "DROP TABLE IF EXISTS sakila.distinct_film;\n",
    "CREATE TEMPORARY TABLE sakila.distinct_film\n",
    "SELECT DISTINCT film_id FROM sakila.film_actor;\n",
    "\n",
    "SELECT concat(a.first_name, \" \", a.last_name) as name, sub1.actor_id, sub2.film_id\n",
    "FROM sakila.distinct_actor as sub1\n",
    "CROSS JOIN sakila.distinct_film as sub2\n",
    "JOIN Sakila\n"
   ]
  }
 ],
 "metadata": {
  "kernelspec": {
   "display_name": "base",
   "language": "python",
   "name": "python3"
  },
  "language_info": {
   "name": "python",
   "version": "3.9.12 (main, Apr  5 2022, 01:52:34) \n[Clang 12.0.0 ]"
  },
  "orig_nbformat": 4,
  "vscode": {
   "interpreter": {
    "hash": "e7cb1b9ae4d417fedf7f40a8eec98f7cfbd359e096bd857395a915f4609834ce"
   }
  }
 },
 "nbformat": 4,
 "nbformat_minor": 2
}
