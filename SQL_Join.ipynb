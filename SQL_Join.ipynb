{
 "cells": [
  {
   "attachments": {},
   "cell_type": "markdown",
   "metadata": {},
   "source": [
    "-- Lab | SQL JOIN\n",
    "-- Instructions\n",
    "\n",
    "In this lab, you will be using the Sakila database of movie rentals.The database is structured as follows:\n",
    "\n",
    "\n",
    "use sakila;\n",
    "select * from rental;\n",
    "\n",
    "-- 1- List the number of films per category.\n",
    "select * from category;\n",
    "select * from film_category; \n",
    "select * from film; \n",
    "select name as category_id, count(title)\n",
    "from category \n",
    "join film_category on category.category_id= film_category.category_id\n",
    "join film  on film.film_id =film_category.film_id\n",
    "group by category_id\n",
    "order by count(title) asc;\n",
    "\n",
    "-- 2- Display the first and the last names, as well as the address, of each staff member.\n",
    "\n",
    "select * from staff;\t \n",
    "select * from address; \n",
    "select first_name,last_name, address\n",
    "from staff\n",
    "join address on staff.address_id= address.address_id;\n",
    "\n",
    "-- 3- Display the total amount rung up by each staff member in August 2005.\n",
    "\n",
    "select * from payment; \n",
    "select * from staff;  \n",
    "select s.staff_id, sum(amount) as total_amount_rung\n",
    "from payment p\n",
    "join staff s on p.staff_id = s.staff_id\n",
    "where month(p.payment_date) = 8 and year(p.payment_date) = 2005\n",
    "group by staff_id; \n",
    "\n",
    "-- 4- List all films and the number of actors who are listed for each film.\n",
    "\n",
    "select * from film; \n",
    "select * from film_actor; \n",
    "select f.title,count(fa.actor_id) as actors\n",
    "from film f \n",
    "join film_actor fa on fa.film_id= f.film_id\n",
    "group by f.title\n",
    "order by count(fa.actor_id) desc;\n",
    "\n",
    "-- 5- Using the payment and the customer tables as well as the JOIN command, list the total amount paid by each customer. List the customers alphabetically by their last names.\n",
    "\n",
    "select * from payment; \n",
    "select * from customer; \n",
    "select sum(p.amount) as \"total amount paid\" ,c.first_name,c.last_name \n",
    "from payment p\n",
    "join customer c on c.customer_id=p.customer_id\n",
    "group by c.customer_id\n",
    "order by c.first_name asc;"
   ]
  }
 ],
 "metadata": {
  "kernelspec": {
   "display_name": "base",
   "language": "python",
   "name": "python3"
  },
  "language_info": {
   "name": "python",
   "version": "3.9.12 (main, Apr  5 2022, 01:52:34) \n[Clang 12.0.0 ]"
  },
  "orig_nbformat": 4,
  "vscode": {
   "interpreter": {
    "hash": "e7cb1b9ae4d417fedf7f40a8eec98f7cfbd359e096bd857395a915f4609834ce"
   }
  }
 },
 "nbformat": 4,
 "nbformat_minor": 2
}
