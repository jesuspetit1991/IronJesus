{
 "cells": [
  {
   "attachments": {},
   "cell_type": "markdown",
   "metadata": {},
   "source": [
    "-- Lab | SQL Rolling calculations\n",
    "-- Instructions\n",
    "\n",
    "In this lab, you will be using the Sakila database of movie rentals.The database is structured as follows:\n",
    "\n",
    "\n",
    "use sakila;\n",
    "select * from rental;\n",
    "\n",
    "-- 1- Get number of monthly active customers.\n",
    "\n",
    "create or replace view sakila.monthly_active_customers as \n",
    "select date_format(rental_date, '%Y') as active_year,\n",
    "date_format(rental_date, '%m') as active_month,\n",
    "count(customer_id) as active_customers\n",
    "from rental\n",
    "group by active_year, active_month\n",
    "order by active_year, active_month;\n",
    "\n",
    "select * from monthly_active_customers;\n",
    "\n",
    "-- 2- Active users in the previous month.\n",
    "\n",
    "create or replace view sakila.last_month_active_customers as\n",
    "select *,\n",
    "lag(active_customers, 1) over () as last_month_customers\n",
    "from monthly_active_customers;\n",
    "select * from last_month_active_customers;\n",
    "\n",
    "-- 3- Percentage change in the number of active customers.\n",
    "\n",
    "select *,\n",
    "concat(round((active_customers - last_month_customers)/last_month_customers * 100, 2), '%') as Percentage_variation\n",
    "from last_month_active_customers;\n",
    "\n",
    "-- 4- Retained customers every month.\n",
    "\n",
    "select *,\n",
    "case \n",
    "\twhen active_customers >= last_month_customers then '100%'\n",
    "    else concat(round((active_customers)/last_month_customers*100, 2),  '%')\n",
    "end as 'Customer retention'\n",
    "from last_month_active_customers;"
   ]
  }
 ],
 "metadata": {
  "kernelspec": {
   "display_name": "base",
   "language": "python",
   "name": "python3"
  },
  "language_info": {
   "name": "python",
   "version": "3.9.12 (main, Apr  5 2022, 01:52:34) \n[Clang 12.0.0 ]"
  },
  "orig_nbformat": 4,
  "vscode": {
   "interpreter": {
    "hash": "e7cb1b9ae4d417fedf7f40a8eec98f7cfbd359e096bd857395a915f4609834ce"
   }
  }
 },
 "nbformat": 4,
 "nbformat_minor": 2
}
