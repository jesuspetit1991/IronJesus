{
 "cells": [
  {
   "attachments": {},
   "cell_type": "markdown",
   "metadata": {},
   "source": [
    "-- Lab | SQL Advanced queries\n",
    "-- Instructions\n",
    "\n",
    "In this lab, you will be using the Sakila database of movie rentals.The database is structured as follows:\n",
    "\n",
    "\n",
    "use sakila;\n",
    "select * from rental;\n",
    "\n",
    "-- 1- List each pair of actors that have worked together.\n",
    "\n",
    "select \n",
    "a.actor_id,\n",
    "a.first_name,\n",
    "a.last_name,\n",
    "count(*)\n",
    "from actor a\n",
    "join film_actor a2 on a2.actor_id = a.actor_id\n",
    "where film_id in (select film_id from film_actor)\n",
    "group by a.actor_id\n",
    "order by count(*) desc;\n",
    "\n",
    "-- 2- For each film, list actor that has acted in more films.\n",
    "\n",
    "select \n",
    "count(film_actor.actor_id),\n",
    "actor.first_name,\n",
    "actor.last_name \n",
    "from actor \n",
    "inner join film_actor using(actor_id)\n",
    "group by actor_id ;"
   ]
  }
 ],
 "metadata": {
  "kernelspec": {
   "display_name": "base",
   "language": "python",
   "name": "python3"
  },
  "language_info": {
   "name": "python",
   "version": "3.9.12 (main, Apr  5 2022, 01:52:34) \n[Clang 12.0.0 ]"
  },
  "orig_nbformat": 4,
  "vscode": {
   "interpreter": {
    "hash": "e7cb1b9ae4d417fedf7f40a8eec98f7cfbd359e096bd857395a915f4609834ce"
   }
  }
 },
 "nbformat": 4,
 "nbformat_minor": 2
}
